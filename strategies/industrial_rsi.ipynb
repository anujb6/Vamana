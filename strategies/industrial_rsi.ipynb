{
 "cells": [
  {
   "cell_type": "code",
   "execution_count": 18,
   "metadata": {},
   "outputs": [
    {
     "data": {
      "text/html": [
       "<div>\n",
       "<style scoped>\n",
       "    .dataframe tbody tr th:only-of-type {\n",
       "        vertical-align: middle;\n",
       "    }\n",
       "\n",
       "    .dataframe tbody tr th {\n",
       "        vertical-align: top;\n",
       "    }\n",
       "\n",
       "    .dataframe thead th {\n",
       "        text-align: right;\n",
       "    }\n",
       "</style>\n",
       "<table border=\"1\" class=\"dataframe\">\n",
       "  <thead>\n",
       "    <tr style=\"text-align: right;\">\n",
       "      <th></th>\n",
       "      <th>Unnamed: 0</th>\n",
       "      <th>symbol</th>\n",
       "      <th>company_name</th>\n",
       "      <th>macro</th>\n",
       "      <th>sector</th>\n",
       "      <th>industry</th>\n",
       "      <th>basic_industry</th>\n",
       "    </tr>\n",
       "  </thead>\n",
       "  <tbody>\n",
       "    <tr>\n",
       "      <th>0</th>\n",
       "      <td>0</td>\n",
       "      <td>20MICRONS</td>\n",
       "      <td>20 Microns Limited</td>\n",
       "      <td>Commodities</td>\n",
       "      <td>Metals &amp; Mining</td>\n",
       "      <td>Minerals &amp; Mining</td>\n",
       "      <td>Industrial Minerals</td>\n",
       "    </tr>\n",
       "    <tr>\n",
       "      <th>1</th>\n",
       "      <td>1</td>\n",
       "      <td>21STCENMGM</td>\n",
       "      <td>21st Century Management Services Limited</td>\n",
       "      <td>Financial Services</td>\n",
       "      <td>Financial Services</td>\n",
       "      <td>Capital Markets</td>\n",
       "      <td>Other Capital Market related Services</td>\n",
       "    </tr>\n",
       "    <tr>\n",
       "      <th>2</th>\n",
       "      <td>2</td>\n",
       "      <td>360ONE</td>\n",
       "      <td>360 ONE WAM LIMITED</td>\n",
       "      <td>Financial Services</td>\n",
       "      <td>Financial Services</td>\n",
       "      <td>Capital Markets</td>\n",
       "      <td>Stockbroking &amp; Allied</td>\n",
       "    </tr>\n",
       "    <tr>\n",
       "      <th>3</th>\n",
       "      <td>3</td>\n",
       "      <td>3IINFOLTD</td>\n",
       "      <td>3i Infotech Limited</td>\n",
       "      <td>Information Technology</td>\n",
       "      <td>Information Technology</td>\n",
       "      <td>IT - Software</td>\n",
       "      <td>Computers - Software &amp; Consulting</td>\n",
       "    </tr>\n",
       "    <tr>\n",
       "      <th>4</th>\n",
       "      <td>4</td>\n",
       "      <td>3MINDIA</td>\n",
       "      <td>3M India Limited</td>\n",
       "      <td>Diversified</td>\n",
       "      <td>Diversified</td>\n",
       "      <td>Diversified</td>\n",
       "      <td>Diversified</td>\n",
       "    </tr>\n",
       "  </tbody>\n",
       "</table>\n",
       "</div>"
      ],
      "text/plain": [
       "   Unnamed: 0      symbol                              company_name  \\\n",
       "0           0   20MICRONS                        20 Microns Limited   \n",
       "1           1  21STCENMGM  21st Century Management Services Limited   \n",
       "2           2      360ONE                       360 ONE WAM LIMITED   \n",
       "3           3   3IINFOLTD                       3i Infotech Limited   \n",
       "4           4     3MINDIA                          3M India Limited   \n",
       "\n",
       "                    macro                  sector           industry  \\\n",
       "0             Commodities         Metals & Mining  Minerals & Mining   \n",
       "1      Financial Services      Financial Services    Capital Markets   \n",
       "2      Financial Services      Financial Services    Capital Markets   \n",
       "3  Information Technology  Information Technology      IT - Software   \n",
       "4             Diversified             Diversified        Diversified   \n",
       "\n",
       "                          basic_industry  \n",
       "0                    Industrial Minerals  \n",
       "1  Other Capital Market related Services  \n",
       "2                  Stockbroking & Allied  \n",
       "3      Computers - Software & Consulting  \n",
       "4                            Diversified  "
      ]
     },
     "execution_count": 18,
     "metadata": {},
     "output_type": "execute_result"
    }
   ],
   "source": [
    "import pandas as pd \n",
    "\n",
    "df = pd.read_csv('../data/symbol_data.csv')\n",
    "df.rename(columns={'SYMBOL': 'symbol', 'NAME OF COMPANY': 'company_name', 'basicIndustry': 'basic_industry'}, inplace=True)\n",
    "df.head()"
   ]
  },
  {
   "cell_type": "code",
   "execution_count": 19,
   "metadata": {},
   "outputs": [
    {
     "name": "stdout",
     "output_type": "stream",
     "text": [
      "(2066, 7)\n"
     ]
    }
   ],
   "source": [
    "df.sort_values(by=['industry', 'basic_industry'], inplace=True)\n",
    "df.head()\n",
    "print(df.shape)\n",
    "# df.to_csv('test_sorted.csv')"
   ]
  }
 ],
 "metadata": {
  "kernelspec": {
   "display_name": "env",
   "language": "python",
   "name": "python3"
  },
  "language_info": {
   "codemirror_mode": {
    "name": "ipython",
    "version": 3
   },
   "file_extension": ".py",
   "mimetype": "text/x-python",
   "name": "python",
   "nbconvert_exporter": "python",
   "pygments_lexer": "ipython3",
   "version": "3.13.1"
  }
 },
 "nbformat": 4,
 "nbformat_minor": 2
}
